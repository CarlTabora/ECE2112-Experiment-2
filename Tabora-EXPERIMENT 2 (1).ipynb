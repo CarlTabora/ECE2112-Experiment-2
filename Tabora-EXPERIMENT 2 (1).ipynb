{
 "cells": [
  {
   "cell_type": "markdown",
   "id": "6bc4ed15-1e35-4dcb-813f-ce770551cf24",
   "metadata": {},
   "source": [
    "## EXPERIMENT 2\n",
    "## NUMERICAL PYTHON (NUMPY)"
   ]
  },
  {
   "cell_type": "markdown",
   "id": "19d202c0-13fd-406d-b7b7-3c99c80c80d5",
   "metadata": {},
   "source": [
    "#### NORMALIZATION PROBLEM"
   ]
  },
  {
   "cell_type": "code",
   "execution_count": 2,
   "id": "455983e0-943c-45ae-85b4-05695f2207b0",
   "metadata": {},
   "outputs": [
    {
     "name": "stdout",
     "output_type": "stream",
     "text": [
      "[[ 0.3144396  -1.35584379 -0.05836655  0.84040653 -1.59941881]\n",
      " [-1.19196145 -0.27187549  1.3366232  -1.02546507  1.07938297]\n",
      " [ 0.69458329 -1.65445585  0.54644043  0.16301288  1.33720915]\n",
      " [-1.263856   -1.52499503  1.15856334  0.49532756  1.3142837 ]\n",
      " [-0.44683251  0.67048611  0.88240754 -0.53747674  0.09738098]]\n"
     ]
    }
   ],
   "source": [
    "#Import numpy library\n",
    "import numpy as np\n",
    "\n",
    "# Create a random 5x5 ndarray\n",
    "X = np.random.rand(5, 5)\n",
    "\n",
    "# Calculate the mean and standard deviation\n",
    "mean_X = X.mean()\n",
    "std_X = X.std()\n",
    "\n",
    "# Normalize the array\n",
    "X_normalized = (X - mean_X) / std_X\n",
    "\n",
    "# Save as X_normalized.npy and print result\n",
    "np.save('X_normalized.npy', X_normalized)\n",
    "print (X_normalized)\n"
   ]
  },
  {
   "cell_type": "markdown",
   "id": "a358217a-fe38-485e-b37e-47c67bc36f0e",
   "metadata": {},
   "source": [
    "#### DIVISIBLE BY 3 PROBLEM"
   ]
  },
  {
   "cell_type": "code",
   "execution_count": 5,
   "id": "45b436d4-455b-40f4-a072-bde6b824e428",
   "metadata": {},
   "outputs": [
    {
     "name": "stdout",
     "output_type": "stream",
     "text": [
      "[   9   36   81  144  225  324  441  576  729  900 1089 1296 1521 1764\n",
      " 2025 2304 2601 2916 3249 3600 3969 4356 4761 5184 5625 6084 6561 7056\n",
      " 7569 8100 8649 9216 9801]\n"
     ]
    }
   ],
   "source": [
    "#Import numpy library\n",
    "import numpy as np\n",
    "\n",
    "# Create a 10x10 array of squares of the first 100 positive integers\n",
    "A = np.arange(1, 101).reshape(10, 10) ** 2\n",
    "\n",
    "# Find elements divisible by 3\n",
    "div_by_3 = A[A % 3 == 0]\n",
    "\n",
    "# Save as div_by_3.npy and print result\n",
    "np.save('div_by_3.npy', div_by_3)\n",
    "print (div_by_3)"
   ]
  },
  {
   "cell_type": "code",
   "execution_count": null,
   "id": "a12dfb05-06f7-4942-b6a4-b8806f75376b",
   "metadata": {},
   "outputs": [],
   "source": []
  }
 ],
 "metadata": {
  "kernelspec": {
   "display_name": "Python 3 (ipykernel)",
   "language": "python",
   "name": "python3"
  },
  "language_info": {
   "codemirror_mode": {
    "name": "ipython",
    "version": 3
   },
   "file_extension": ".py",
   "mimetype": "text/x-python",
   "name": "python",
   "nbconvert_exporter": "python",
   "pygments_lexer": "ipython3",
   "version": "3.12.4"
  }
 },
 "nbformat": 4,
 "nbformat_minor": 5
}
