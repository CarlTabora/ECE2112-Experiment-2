{
 "cells": [
  {
   "cell_type": "markdown",
   "id": "6bc4ed15-1e35-4dcb-813f-ce770551cf24",
   "metadata": {},
   "source": [
    "## EXPERIMENT 2\n",
    "## NUMERICAL PYTHON (NUMPY)"
   ]
  },
  {
   "cell_type": "markdown",
   "id": "19d202c0-13fd-406d-b7b7-3c99c80c80d5",
   "metadata": {},
   "source": [
    "#### NORMALIZATION PROBLEM"
   ]
  },
  {
   "cell_type": "code",
   "execution_count": 2,
   "id": "455983e0-943c-45ae-85b4-05695f2207b0",
   "metadata": {},
   "outputs": [
    {
     "name": "stdout",
     "output_type": "stream",
     "text": [
      "[[ 0.3144396  -1.35584379 -0.05836655  0.84040653 -1.59941881]\n",
      " [-1.19196145 -0.27187549  1.3366232  -1.02546507  1.07938297]\n",
      " [ 0.69458329 -1.65445585  0.54644043  0.16301288  1.33720915]\n",
      " [-1.263856   -1.52499503  1.15856334  0.49532756  1.3142837 ]\n",
      " [-0.44683251  0.67048611  0.88240754 -0.53747674  0.09738098]]\n"
     ]
    }
   ],
   "source": [
    "#Import numpy library\n",
    "import numpy as np\n",
    "\n",
    "# Create a random 5x5 ndarray\n",
    "X = np.random.rand(5, 5)\n",
    "\n",
    "# Calculate the mean and standard deviation\n",
    "mean_X = X.mean()\n",
    "std_X = X.std()\n",
    "\n",
    "# Normalize the array\n",
    "X_normalized = (X - mean_X) / std_X\n",
    "\n",
    "# Save as X_normalized.npy and print result\n",
    "np.save('X_normalized.npy', X_normalized)\n",
    "print (X_normalized)\n"
   ]
  },
  {
   "cell_type": "markdown",
   "id": "a358217a-fe38-485e-b37e-47c67bc36f0e",
   "metadata": {},
   "source": [
    "#### DIVISIBLE BY 3 PROBLEM"
   ]
  },
  {
   "cell_type": "code",
   "execution_count": 2,
   "id": "45b436d4-455b-40f4-a072-bde6b824e428",
   "metadata": {},
   "outputs": [
    {
     "name": "stdout",
     "output_type": "stream",
     "text": [
      "[[    1     4     9    16    25    36    49    64    81   100]\n",
      " [  121   144   169   196   225   256   289   324   361   400]\n",
      " [  441   484   529   576   625   676   729   784   841   900]\n",
      " [  961  1024  1089  1156  1225  1296  1369  1444  1521  1600]\n",
      " [ 1681  1764  1849  1936  2025  2116  2209  2304  2401  2500]\n",
      " [ 2601  2704  2809  2916  3025  3136  3249  3364  3481  3600]\n",
      " [ 3721  3844  3969  4096  4225  4356  4489  4624  4761  4900]\n",
      " [ 5041  5184  5329  5476  5625  5776  5929  6084  6241  6400]\n",
      " [ 6561  6724  6889  7056  7225  7396  7569  7744  7921  8100]\n",
      " [ 8281  8464  8649  8836  9025  9216  9409  9604  9801 10000]]\n"
     ]
    }
   ],
   "source": [
    "#Import numpy library\n",
    "import numpy as np\n",
    "\n",
    "# Create a 10x10 array of squares of the first 100 positive integers\n",
    "A = np.arange(1, 101).reshape(10, 10) ** 2\n",
    "\n",
    "# Find elements divisible by 3\n",
    "div_by_3 = A[A % 3 == 0]\n",
    "\n",
    "# Save as div_by_3.npy and print result\n",
    "np.save('div_by_3.npy', div_by_3)\n",
    "print (A)"
   ]
  },
  {
   "cell_type": "code",
   "execution_count": null,
   "id": "a12dfb05-06f7-4942-b6a4-b8806f75376b",
   "metadata": {},
   "outputs": [],
   "source": []
  }
 ],
 "metadata": {
  "kernelspec": {
   "display_name": "Python 3 (ipykernel)",
   "language": "python",
   "name": "python3"
  },
  "language_info": {
   "codemirror_mode": {
    "name": "ipython",
    "version": 3
   },
   "file_extension": ".py",
   "mimetype": "text/x-python",
   "name": "python",
   "nbconvert_exporter": "python",
   "pygments_lexer": "ipython3",
   "version": "3.12.4"
  }
 },
 "nbformat": 4,
 "nbformat_minor": 5
}
